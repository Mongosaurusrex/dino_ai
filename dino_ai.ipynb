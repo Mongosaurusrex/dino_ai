{
 "cells": [
  {
   "cell_type": "markdown",
   "metadata": {},
   "source": [
    "## Build environment\n"
   ]
  },
  {
   "cell_type": "code",
   "execution_count": 1,
   "metadata": {},
   "outputs": [],
   "source": [
    "from mss import mss\n",
    "import cv2\n",
    "from pynput.keyboard import Key, Controller as KeyBoardController\n",
    "from pynput.mouse import Button, Controller as MouseController\n",
    "import numpy as np\n",
    "import pytesseract\n",
    "from matplotlib import pyplot as plt\n",
    "import time\n",
    "from gym import Env\n",
    "from gym.spaces import Box, Discrete"
   ]
  },
  {
   "cell_type": "code",
   "execution_count": 2,
   "metadata": {},
   "outputs": [],
   "source": [
    "class WebGame(Env):\n",
    "    def __init__(self):\n",
    "        super().__init__()\n",
    "\n",
    "        # Input setup\n",
    "        self.keyboard = KeyBoardController()\n",
    "        self.mouse = MouseController()\n",
    "\n",
    "        # Spaces setup\n",
    "        self.observation_space = Box(\n",
    "            low=0, high=255, shape=(1, 83, 100), dtype=np.uint8\n",
    "        )\n",
    "        self.action_space = Discrete(3)\n",
    "\n",
    "        # Define extraction parameters for the game\n",
    "        self.cap = mss()\n",
    "        self.game_location = {\"top\": 300, \"left\": 0, \"width\": 600, \"height\": 500}\n",
    "        self.done_location = {\"top\": 460, \"left\": 620, \"width\": 660, \"height\": 60}\n",
    "\n",
    "    # An action that is passed into the game\n",
    "    def step(self, action):\n",
    "        # Action key - 0 = Space, 1 = Duck, 2 = No action\n",
    "        action_map = {\n",
    "            0: Key.space,\n",
    "            1: Key.down,\n",
    "            2: \"no_op\",\n",
    "        }\n",
    "\n",
    "        if action != 2:\n",
    "            self.keyboard.press(action_map[action])\n",
    "\n",
    "        done, _ = self.get_done()\n",
    "        new_observation = self.get_observation()\n",
    "        # We get a reward every frame we're alive\n",
    "        reward = 1\n",
    "        # Info dictionary\n",
    "        info = {}\n",
    "\n",
    "        return new_observation, reward, done, info\n",
    "\n",
    "    # Visualize the game\n",
    "    def render(self):\n",
    "        # Flakey, I don't know really what to do with the quit\n",
    "        cv2.imshow(\"Game\", np.array(self.cap.grab(self.game_location))[:, :, :3])\n",
    "        if cv2.waitKey(1) & 0xFF == ord(\"q\"):\n",
    "            self.close()\n",
    "\n",
    "    # Restart the game\n",
    "    def reset(self):\n",
    "        time.sleep(3)\n",
    "        self.mouse.position = (600, 600)\n",
    "        self.mouse.click(Button.left, 1)\n",
    "        return self.get_observation()\n",
    "\n",
    "    # Closes down the observation\n",
    "    def close(self):\n",
    "        cv2.destroyAllWindows()\n",
    "\n",
    "    # Get part of the observation of the game\n",
    "    def get_observation(self):\n",
    "        # Get screen capute of the game\n",
    "        raw = np.array(self.cap.grab(self.game_location))[:, :, :3]\n",
    "        # Grayscale\n",
    "        gray = cv2.cvtColor(raw, cv2.COLOR_BGR2GRAY)\n",
    "        # Resize\n",
    "        resized = cv2.resize(gray, (100, 83))\n",
    "        # Add channels first\n",
    "        channel = np.reshape(resized, (1, 83, 100))\n",
    "\n",
    "        return channel\n",
    "\n",
    "    # Get the done text\n",
    "    def get_done(self):\n",
    "        # Get done screen\n",
    "        done_cap = np.array(self.cap.grab(self.done_location))[:, :, :3]\n",
    "        # Valid done text\n",
    "        done_strings = [\"GAME\", \"GAHE\", \"GCAR\", \"GARN\", \"GCA \"]\n",
    "\n",
    "        # Apply OCR\n",
    "        done = False\n",
    "        res = pytesseract.image_to_string(done_cap)[:4]\n",
    "\n",
    "        if res in done_strings:\n",
    "            done = True\n",
    "\n",
    "        return done, done_cap"
   ]
  },
  {
   "cell_type": "code",
   "execution_count": 3,
   "metadata": {},
   "outputs": [],
   "source": [
    "env = WebGame()"
   ]
  },
  {
   "cell_type": "code",
   "execution_count": 4,
   "metadata": {},
   "outputs": [
    {
     "data": {
      "text/plain": [
       "<matplotlib.image.AxesImage at 0x16943dc50>"
      ]
     },
     "execution_count": 4,
     "metadata": {},
     "output_type": "execute_result"
    },
    {
     "data": {
      "image/png": "[encoded data removed]",
      "text/plain": [
       "<Figure size 640x480 with 1 Axes>"
      ]
     },
     "metadata": {},
     "output_type": "display_data"
    }
   ],
   "source": [
    "plt.imshow(cv2.cvtColor(env.get_observation()[0], cv2.COLOR_BGR2RGB))"
   ]
  },
  {
   "cell_type": "code",
   "execution_count": 5,
   "metadata": {},
   "outputs": [
    {
     "name": "stdout",
     "output_type": "stream",
     "text": [
      "Detected game over:  True\n"
     ]
    },
    {
     "data": {
      "text/plain": [
       "<matplotlib.image.AxesImage at 0x1694af290>"
      ]
     },
     "execution_count": 5,
     "metadata": {},
     "output_type": "execute_result"
    },
    {
     "data": {
      "image/png": "[encoded data removed]",
      "text/plain": [
       "<Figure size 640x480 with 1 Axes>"
      ]
     },
     "metadata": {},
     "output_type": "display_data"
    }
   ],
   "source": [
    "done, done_cap = env.get_done()\n",
    "print(\"Detected game over: \", done)\n",
    "plt.imshow(done_cap)"
   ]
  },
  {
   "cell_type": "code",
   "execution_count": 6,
   "metadata": {},
   "outputs": [],
   "source": [
    "# WIP\n",
    "# for episode in range(10):\n",
    "#     obs = env.reset()\n",
    "#     done = False\n",
    "#     total_reward = 0\n",
    "\n",
    "#     while not done:\n",
    "#         obs, reward, done, info = env.step(env.action_space.sample())\n",
    "#         print(done)\n",
    "#         total_reward += reward\n",
    "#         print(f\"Total reward for episode {episode} is {total_reward}\")\n",
    "\n",
    "    "
   ]
  }
 ],
 "metadata": {
  "kernelspec": {
   "display_name": "venv",
   "language": "python",
   "name": "python3"
  },
  "language_info": {
   "codemirror_mode": {
    "name": "ipython",
    "version": 3
   },
   "file_extension": ".py",
   "mimetype": "text/x-python",
   "name": "python",
   "nbconvert_exporter": "python",
   "pygments_lexer": "ipython3",
   "version": "3.11.6"
  }
 },
 "nbformat": 4,
 "nbformat_minor": 2
}
